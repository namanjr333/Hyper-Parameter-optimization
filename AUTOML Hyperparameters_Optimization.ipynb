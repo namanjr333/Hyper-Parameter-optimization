{
  "cells": [
    {
      "cell_type": "markdown",
      "metadata": {},
      "source": [
        "# AUTO-ML"
      ]
    },
    {
      "cell_type": "markdown",
      "metadata": {},
      "source": [
        "-> use baiyesin and tpe optimization technique to get the best hyperparameter."
      ]
    },
    {
      "cell_type": "markdown",
      "metadata": {},
      "source": [
        "-> compare baiyesin with inbuilt library hyperopt "
      ]
    },
    {
      "cell_type": "markdown",
      "metadata": {},
      "source": [
        "-> compare the learning rates of baiyesin and hyperopt \n"
      ]
    },
    {
      "cell_type": "code",
      "execution_count": 217,
      "metadata": {
        "id": "ZRTwWCi6k_cu"
      },
      "outputs": [],
      "source": [
        "import pandas as pd\n",
        "import numpy as np\n",
        "from sklearn import ensemble\n",
        "from sklearn import metrics\n",
        "from sklearn import model_selection\n",
        "from sklearn import preprocessing\n",
        "from sklearn import decomposition\n",
        "from sklearn import pipeline"
      ]
    },
    {
      "cell_type": "markdown",
      "metadata": {},
      "source": [
        "-> mobile classification dataset is used"
      ]
    },
    {
      "cell_type": "code",
      "execution_count": 218,
      "metadata": {
        "colab": {
          "base_uri": "https://localhost:8080/"
        },
        "id": "LP8OZh9wk_cz",
        "outputId": "85d3af96-a982-415f-bb7a-d9f44b33de80"
      },
      "outputs": [
        {
          "name": "stdout",
          "output_type": "stream",
          "text": [
            "<class 'pandas.core.frame.DataFrame'>\n",
            "RangeIndex: 2000 entries, 0 to 1999\n",
            "Data columns (total 21 columns):\n",
            " #   Column         Non-Null Count  Dtype  \n",
            "---  ------         --------------  -----  \n",
            " 0   battery_power  2000 non-null   int64  \n",
            " 1   blue           2000 non-null   int64  \n",
            " 2   clock_speed    2000 non-null   float64\n",
            " 3   dual_sim       2000 non-null   int64  \n",
            " 4   fc             2000 non-null   int64  \n",
            " 5   four_g         2000 non-null   int64  \n",
            " 6   int_memory     2000 non-null   int64  \n",
            " 7   m_dep          2000 non-null   float64\n",
            " 8   mobile_wt      2000 non-null   int64  \n",
            " 9   n_cores        2000 non-null   int64  \n",
            " 10  pc             2000 non-null   int64  \n",
            " 11  px_height      2000 non-null   int64  \n",
            " 12  px_width       2000 non-null   int64  \n",
            " 13  ram            2000 non-null   int64  \n",
            " 14  sc_h           2000 non-null   int64  \n",
            " 15  sc_w           2000 non-null   int64  \n",
            " 16  talk_time      2000 non-null   int64  \n",
            " 17  three_g        2000 non-null   int64  \n",
            " 18  touch_screen   2000 non-null   int64  \n",
            " 19  wifi           2000 non-null   int64  \n",
            " 20  price_range    2000 non-null   int64  \n",
            "dtypes: float64(2), int64(19)\n",
            "memory usage: 328.3 KB\n",
            "None\n"
          ]
        }
      ],
      "source": [
        "# Load the Dataset\n",
        "df = pd.read_csv('train.csv')\n",
        "\n",
        "# Display the first few rows of the dataset\n",
        "print(df.info())"
      ]
    },
    {
      "cell_type": "code",
      "execution_count": 219,
      "metadata": {},
      "outputs": [],
      "source": [
        "# Dropping the price range coloumn form datasheet and storing it in X\n",
        "X  = df.drop('price_range', axis = 1).values\n",
        "# Storing the price range coloumn in y\n",
        "y  = df['price_range'].values"
      ]
    },
    {
      "cell_type": "markdown",
      "metadata": {},
      "source": [
        "# Random Forest\n"
      ]
    },
    {
      "cell_type": "code",
      "execution_count": 220,
      "metadata": {},
      "outputs": [],
      "source": [
        "import pandas as pd\n",
        "import numpy as np\n",
        "import matplotlib.pyplot as plt\n",
        "import seaborn as sns\n",
        "import plotly.express as px\n",
        "from plotly.offline import iplot , plot\n",
        "from plotly.subplots import make_subplots\n",
        "from sklearn.model_selection import train_test_split , GridSearchCV\n",
        "from sklearn.metrics import ConfusionMatrixDisplay\n",
        "from sklearn.preprocessing import MinMaxScaler\n",
        "from sklearn.svm import SVC\n",
        "from sklearn.ensemble import RandomForestClassifier\n",
        "from sklearn.linear_model import LogisticRegression\n",
        "import warnings\n",
        "warnings.filterwarnings('ignore')"
      ]
    },
    {
      "cell_type": "code",
      "execution_count": 221,
      "metadata": {},
      "outputs": [],
      "source": [
        "\n",
        "from sklearn import metrics\n",
        "from sklearn.model_selection import train_test_split\n",
        "from sklearn.ensemble import RandomForestClassifier\n",
        "\n",
        "from sklearn import metrics\n",
        "import numpy as np\n",
        "from sklearn.metrics import roc_auc_score"
      ]
    },
    {
      "cell_type": "code",
      "execution_count": 222,
      "metadata": {},
      "outputs": [],
      "source": [
        "x_train , x_test , y_train , y_test = train_test_split(X,y,test_size=0.2)"
      ]
    },
    {
      "cell_type": "code",
      "execution_count": 223,
      "metadata": {},
      "outputs": [
        {
          "data": {
            "text/html": [
              "<style>#sk-container-id-7 {color: black;}#sk-container-id-7 pre{padding: 0;}#sk-container-id-7 div.sk-toggleable {background-color: white;}#sk-container-id-7 label.sk-toggleable__label {cursor: pointer;display: block;width: 100%;margin-bottom: 0;padding: 0.3em;box-sizing: border-box;text-align: center;}#sk-container-id-7 label.sk-toggleable__label-arrow:before {content: \"▸\";float: left;margin-right: 0.25em;color: #696969;}#sk-container-id-7 label.sk-toggleable__label-arrow:hover:before {color: black;}#sk-container-id-7 div.sk-estimator:hover label.sk-toggleable__label-arrow:before {color: black;}#sk-container-id-7 div.sk-toggleable__content {max-height: 0;max-width: 0;overflow: hidden;text-align: left;background-color: #f0f8ff;}#sk-container-id-7 div.sk-toggleable__content pre {margin: 0.2em;color: black;border-radius: 0.25em;background-color: #f0f8ff;}#sk-container-id-7 input.sk-toggleable__control:checked~div.sk-toggleable__content {max-height: 200px;max-width: 100%;overflow: auto;}#sk-container-id-7 input.sk-toggleable__control:checked~label.sk-toggleable__label-arrow:before {content: \"▾\";}#sk-container-id-7 div.sk-estimator input.sk-toggleable__control:checked~label.sk-toggleable__label {background-color: #d4ebff;}#sk-container-id-7 div.sk-label input.sk-toggleable__control:checked~label.sk-toggleable__label {background-color: #d4ebff;}#sk-container-id-7 input.sk-hidden--visually {border: 0;clip: rect(1px 1px 1px 1px);clip: rect(1px, 1px, 1px, 1px);height: 1px;margin: -1px;overflow: hidden;padding: 0;position: absolute;width: 1px;}#sk-container-id-7 div.sk-estimator {font-family: monospace;background-color: #f0f8ff;border: 1px dotted black;border-radius: 0.25em;box-sizing: border-box;margin-bottom: 0.5em;}#sk-container-id-7 div.sk-estimator:hover {background-color: #d4ebff;}#sk-container-id-7 div.sk-parallel-item::after {content: \"\";width: 100%;border-bottom: 1px solid gray;flex-grow: 1;}#sk-container-id-7 div.sk-label:hover label.sk-toggleable__label {background-color: #d4ebff;}#sk-container-id-7 div.sk-serial::before {content: \"\";position: absolute;border-left: 1px solid gray;box-sizing: border-box;top: 0;bottom: 0;left: 50%;z-index: 0;}#sk-container-id-7 div.sk-serial {display: flex;flex-direction: column;align-items: center;background-color: white;padding-right: 0.2em;padding-left: 0.2em;position: relative;}#sk-container-id-7 div.sk-item {position: relative;z-index: 1;}#sk-container-id-7 div.sk-parallel {display: flex;align-items: stretch;justify-content: center;background-color: white;position: relative;}#sk-container-id-7 div.sk-item::before, #sk-container-id-7 div.sk-parallel-item::before {content: \"\";position: absolute;border-left: 1px solid gray;box-sizing: border-box;top: 0;bottom: 0;left: 50%;z-index: -1;}#sk-container-id-7 div.sk-parallel-item {display: flex;flex-direction: column;z-index: 1;position: relative;background-color: white;}#sk-container-id-7 div.sk-parallel-item:first-child::after {align-self: flex-end;width: 50%;}#sk-container-id-7 div.sk-parallel-item:last-child::after {align-self: flex-start;width: 50%;}#sk-container-id-7 div.sk-parallel-item:only-child::after {width: 0;}#sk-container-id-7 div.sk-dashed-wrapped {border: 1px dashed gray;margin: 0 0.4em 0.5em 0.4em;box-sizing: border-box;padding-bottom: 0.4em;background-color: white;}#sk-container-id-7 div.sk-label label {font-family: monospace;font-weight: bold;display: inline-block;line-height: 1.2em;}#sk-container-id-7 div.sk-label-container {text-align: center;}#sk-container-id-7 div.sk-container {/* jupyter's `normalize.less` sets `[hidden] { display: none; }` but bootstrap.min.css set `[hidden] { display: none !important; }` so we also need the `!important` here to be able to override the default hidden behavior on the sphinx rendered scikit-learn.org. See: https://github.com/scikit-learn/scikit-learn/issues/21755 */display: inline-block !important;position: relative;}#sk-container-id-7 div.sk-text-repr-fallback {display: none;}</style><div id=\"sk-container-id-7\" class=\"sk-top-container\"><div class=\"sk-text-repr-fallback\"><pre>RandomForestClassifier(n_estimators=10, n_jobs=-1, random_state=42)</pre><b>In a Jupyter environment, please rerun this cell to show the HTML representation or trust the notebook. <br />On GitHub, the HTML representation is unable to render, please try loading this page with nbviewer.org.</b></div><div class=\"sk-container\" hidden><div class=\"sk-item\"><div class=\"sk-estimator sk-toggleable\"><input class=\"sk-toggleable__control sk-hidden--visually\" id=\"sk-estimator-id-7\" type=\"checkbox\" checked><label for=\"sk-estimator-id-7\" class=\"sk-toggleable__label sk-toggleable__label-arrow\">RandomForestClassifier</label><div class=\"sk-toggleable__content\"><pre>RandomForestClassifier(n_estimators=10, n_jobs=-1, random_state=42)</pre></div></div></div></div></div>"
            ],
            "text/plain": [
              "RandomForestClassifier(n_estimators=10, n_jobs=-1, random_state=42)"
            ]
          },
          "execution_count": 223,
          "metadata": {},
          "output_type": "execute_result"
        }
      ],
      "source": [
        "model_RFC = RandomForestClassifier(n_estimators=10,n_jobs=-1, random_state=42)\n",
        "model_RFC.fit(x_train,y_train)\n"
      ]
    },
    {
      "cell_type": "code",
      "execution_count": 224,
      "metadata": {},
      "outputs": [
        {
          "name": "stdout",
          "output_type": "stream",
          "text": [
            "ROC AUC (One-vs-Rest): 0.9271388539286957\n"
          ]
        }
      ],
      "source": [
        "\n",
        "# Example data (replace with your actual data)\n",
        "\n",
        "y_score = model_RFC.predict_proba(x_test)  # Predicted probabilities for all classes\n",
        "roc_auc = roc_auc_score(y_test, y_score, multi_class='ovr')\n",
        "print(\"ROC AUC (One-vs-Rest):\", roc_auc)"
      ]
    },
    {
      "cell_type": "code",
      "execution_count": 225,
      "metadata": {},
      "outputs": [],
      "source": [
        "from sklearn.model_selection import cross_val_score"
      ]
    },
    {
      "cell_type": "code",
      "execution_count": 226,
      "metadata": {},
      "outputs": [
        {
          "name": "stdout",
          "output_type": "stream",
          "text": [
            "scores\n",
            " [0.795 0.805 0.83  0.79  0.83  0.795 0.78  0.86  0.79  0.78 ]\n",
            "\n",
            "cv values (10,)\n",
            "\n",
            "Score_Mean 0.8055\n"
          ]
        }
      ],
      "source": [
        "\n",
        "\n",
        "# Perform 10-fold cross-validation\n",
        "score = cross_val_score(model_RFC, X, y, cv=10)\n",
        "\n",
        "# Print the scores\n",
        "print('scores\\n', score)\n",
        "\n",
        "# Print the shape of the scores array\n",
        "print('\\ncv values', score.shape)\n",
        "\n",
        "# Print the mean score\n",
        "print('\\nScore_Mean', score.mean())"
      ]
    },
    {
      "cell_type": "markdown",
      "metadata": {
        "id": "pw2wyFObk_c1"
      },
      "source": [
        "# Bayesian optimization"
      ]
    },
    {
      "cell_type": "code",
      "execution_count": 227,
      "metadata": {
        "id": "i3RUric7k_c1"
      },
      "outputs": [],
      "source": [
        "# optimization function for hyperparameter optimization using Bayesian optimisation\n",
        "def optimize(params, param_names, x, y, list_of_all_params):\n",
        "    print(params, param_names)\n",
        "    # storing all set of parameters values(params) in a list\n",
        "    list_of_all_params.append(params)\n",
        "    #converting params(list) in to params(dictionary)\n",
        "    params = dict(zip(param_names, params))  #this will not work if we are tuning the params of different models\n",
        "    model  = ensemble.RandomForestClassifier(**params, n_jobs=-1, random_state=42) #unpacing of params dict into parameters of RandomForestClassifier\n",
        "    kf     = model_selection.StratifiedKFold(n_splits = 5)\n",
        "\n",
        "    accuracies = []\n",
        "    for idx in kf.split(X=x, y=y):\n",
        "        train_idx, test_idx = idx[0], idx[1]\n",
        "\n",
        "        xtrain = x[train_idx]\n",
        "        ytrain = y[train_idx]\n",
        "        xtest = x[test_idx]\n",
        "        ytest = y[test_idx]\n",
        "\n",
        "        model.fit(xtrain, ytrain)\n",
        "        preds = model.predict(xtest)\n",
        "        fold_acc = metrics.accuracy_score(ytest, preds)\n",
        "\n",
        "        accuracies.append(fold_acc)\n",
        "\n",
        "    return -1*np.mean(accuracies)"
      ]
    },
    {
      "cell_type": "code",
      "execution_count": 228,
      "metadata": {
        "id": "z5RXctMamO_o"
      },
      "outputs": [],
      "source": [
        "from functools import partial\n",
        "from skopt import space\n",
        "from skopt import gp_minimize"
      ]
    },
    {
      "cell_type": "code",
      "execution_count": 229,
      "metadata": {
        "id": "9hYY25egk_c2"
      },
      "outputs": [],
      "source": [
        "# Initialize a search space of max_depth, n_estimators, criterion and max_features\n",
        "param_space = [\n",
        "    space.Integer(3, 15, name=\"max_depth\"),\n",
        "    space.Integer(100, 600, name=\"n_estimators\"),\n",
        "    space.Categorical([\"gini\", \"entropy\"], name=\"criterion\"),\n",
        "    space.Real(0.01, 1, prior = \"uniform\", name=\"max_features\")\n",
        "]"
      ]
    },
    {
      "cell_type": "code",
      "execution_count": 230,
      "metadata": {
        "colab": {
          "base_uri": "https://localhost:8080/"
        },
        "id": "0insaWt4k_c3",
        "outputId": "f4c5a71c-0ed6-4ae8-932d-7273139635de"
      },
      "outputs": [
        {
          "data": {
            "text/plain": [
              "['max_depth', 'n_estimators', 'criterion', 'max_features']"
            ]
          },
          "execution_count": 230,
          "metadata": {},
          "output_type": "execute_result"
        }
      ],
      "source": [
        "param_names  = [\"max_depth\", \"n_estimators\", \"criterion\", \"max_features\" ]\n",
        "param_names"
      ]
    },
    {
      "cell_type": "code",
      "execution_count": 231,
      "metadata": {
        "id": "hsbZEKuVk_c3"
      },
      "outputs": [],
      "source": [
        "#Creating a list to store all set of params value of each iteration\n",
        "list_of_all_params = []\n",
        "optimization_func = partial(optimize, param_names = param_names, x = X, y = y, list_of_all_params = list_of_all_params)"
      ]
    },
    {
      "cell_type": "code",
      "execution_count": 232,
      "metadata": {
        "colab": {
          "base_uri": "https://localhost:8080/"
        },
        "id": "3ujCzLQOk_c4",
        "outputId": "0657d506-8028-469d-aee1-2408a0f43196"
      },
      "outputs": [
        {
          "name": "stdout",
          "output_type": "stream",
          "text": [
            "Iteration No: 1 started. Evaluating function at random point.\n",
            "[5, 524, 'entropy', 0.6242821252879416] ['max_depth', 'n_estimators', 'criterion', 'max_features']\n",
            "Iteration No: 1 ended. Evaluation done at random point.\n",
            "Time taken: 5.4779\n",
            "Function value obtained: -0.8725\n",
            "Current minimum: -0.8725\n",
            "Iteration No: 2 started. Evaluating function at random point.\n",
            "[7, 187, 'gini', 0.16837216070143307] ['max_depth', 'n_estimators', 'criterion', 'max_features']\n",
            "Iteration No: 2 ended. Evaluation done at random point.\n",
            "Time taken: 1.9125\n",
            "Function value obtained: -0.8475\n",
            "Current minimum: -0.8725\n",
            "Iteration No: 3 started. Evaluating function at random point.\n",
            "[7, 555, 'gini', 0.04696251313662343] ['max_depth', 'n_estimators', 'criterion', 'max_features']\n",
            "Iteration No: 3 ended. Evaluation done at random point.\n",
            "Time taken: 5.2157\n",
            "Function value obtained: -0.7715\n",
            "Current minimum: -0.8725\n",
            "Iteration No: 4 started. Evaluating function at random point.\n",
            "[13, 165, 'entropy', 0.332953374902347] ['max_depth', 'n_estimators', 'criterion', 'max_features']\n",
            "Iteration No: 4 ended. Evaluation done at random point.\n",
            "Time taken: 1.9585\n",
            "Function value obtained: -0.8995\n",
            "Current minimum: -0.8995\n",
            "Iteration No: 5 started. Evaluating function at random point.\n",
            "[5, 493, 'entropy', 0.6765731321644932] ['max_depth', 'n_estimators', 'criterion', 'max_features']\n",
            "Iteration No: 5 ended. Evaluation done at random point.\n",
            "Time taken: 5.2322\n",
            "Function value obtained: -0.8760\n",
            "Current minimum: -0.8995\n",
            "Iteration No: 6 started. Evaluating function at random point.\n",
            "[5, 349, 'entropy', 0.7677846588570026] ['max_depth', 'n_estimators', 'criterion', 'max_features']\n",
            "Iteration No: 6 ended. Evaluation done at random point.\n",
            "Time taken: 4.0745\n",
            "Function value obtained: -0.8775\n",
            "Current minimum: -0.8995\n",
            "Iteration No: 7 started. Evaluating function at random point.\n",
            "[4, 302, 'entropy', 0.3533695572105351] ['max_depth', 'n_estimators', 'criterion', 'max_features']\n",
            "Iteration No: 7 ended. Evaluation done at random point.\n",
            "Time taken: 3.0318\n",
            "Function value obtained: -0.8335\n",
            "Current minimum: -0.8995\n",
            "Iteration No: 8 started. Evaluating function at random point.\n",
            "[14, 478, 'entropy', 0.7402652389163321] ['max_depth', 'n_estimators', 'criterion', 'max_features']\n",
            "Iteration No: 8 ended. Evaluation done at random point.\n",
            "Time taken: 6.1529\n",
            "Function value obtained: -0.9085\n",
            "Current minimum: -0.9085\n",
            "Iteration No: 9 started. Evaluating function at random point.\n",
            "[11, 286, 'entropy', 0.2016359176423439] ['max_depth', 'n_estimators', 'criterion', 'max_features']\n",
            "Iteration No: 9 ended. Evaluation done at random point.\n",
            "Time taken: 3.1388\n",
            "Function value obtained: -0.8815\n",
            "Current minimum: -0.9085\n",
            "Iteration No: 10 started. Evaluating function at random point.\n",
            "[4, 485, 'entropy', 0.102957804891415] ['max_depth', 'n_estimators', 'criterion', 'max_features']\n",
            "Iteration No: 10 ended. Evaluation done at random point.\n",
            "Time taken: 4.7715\n",
            "Function value obtained: -0.7275\n",
            "Current minimum: -0.9085\n",
            "Iteration No: 11 started. Searching for the next optimal point.\n",
            "[10, 100, 'gini', 0.5373339055008187] ['max_depth', 'n_estimators', 'criterion', 'max_features']\n",
            "Iteration No: 11 ended. Search finished for the next optimal point.\n",
            "Time taken: 1.4922\n",
            "Function value obtained: -0.8935\n",
            "Current minimum: -0.9085\n",
            "Iteration No: 12 started. Searching for the next optimal point.\n",
            "[15, 600, 'gini', 1.0] ['max_depth', 'n_estimators', 'criterion', 'max_features']\n",
            "Iteration No: 12 ended. Search finished for the next optimal point.\n",
            "Time taken: 8.9556\n",
            "Function value obtained: -0.8905\n",
            "Current minimum: -0.9085\n",
            "Iteration No: 13 started. Searching for the next optimal point.\n",
            "[15, 600, 'gini', 0.41178740618907944] ['max_depth', 'n_estimators', 'criterion', 'max_features']\n",
            "Iteration No: 13 ended. Search finished for the next optimal point.\n",
            "Time taken: 9.0336\n",
            "Function value obtained: -0.8965\n",
            "Current minimum: -0.9085\n",
            "Iteration No: 14 started. Searching for the next optimal point.\n",
            "[15, 100, 'entropy', 0.01] ['max_depth', 'n_estimators', 'criterion', 'max_features']\n",
            "Iteration No: 14 ended. Search finished for the next optimal point.\n",
            "Time taken: 1.4620\n",
            "Function value obtained: -0.7280\n",
            "Current minimum: -0.9085\n",
            "Iteration No: 15 started. Searching for the next optimal point.\n",
            "[15, 100, 'entropy', 0.6362438694851509] ['max_depth', 'n_estimators', 'criterion', 'max_features']\n",
            "Iteration No: 15 ended. Search finished for the next optimal point.\n",
            "Time taken: 1.7127\n",
            "Function value obtained: -0.9065\n",
            "Current minimum: -0.9085\n"
          ]
        }
      ],
      "source": [
        "# storing the best parameters in result\n",
        "result = gp_minimize(optimization_func, dimensions = param_space, n_calls = 15, n_random_starts = 10, verbose = 10)"
      ]
    },
    {
      "cell_type": "code",
      "execution_count": 233,
      "metadata": {
        "colab": {
          "base_uri": "https://localhost:8080/"
        },
        "id": "utKMDYHO89n9",
        "outputId": "16d7381e-0650-4ab8-e5b9-e154f1fcc166"
      },
      "outputs": [
        {
          "name": "stdout",
          "output_type": "stream",
          "text": [
            "[[5, 524, 'entropy', 0.6242821252879416], [7, 187, 'gini', 0.16837216070143307], [7, 555, 'gini', 0.04696251313662343], [13, 165, 'entropy', 0.332953374902347], [5, 493, 'entropy', 0.6765731321644932], [5, 349, 'entropy', 0.7677846588570026], [4, 302, 'entropy', 0.3533695572105351], [14, 478, 'entropy', 0.7402652389163321], [11, 286, 'entropy', 0.2016359176423439], [4, 485, 'entropy', 0.102957804891415], [10, 100, 'gini', 0.5373339055008187], [15, 600, 'gini', 1.0], [15, 600, 'gini', 0.41178740618907944], [15, 100, 'entropy', 0.01], [15, 100, 'entropy', 0.6362438694851509]]\n",
            "15\n"
          ]
        }
      ],
      "source": [
        "print(list_of_all_params)\n",
        "print(len(list_of_all_params))"
      ]
    },
    {
      "cell_type": "code",
      "execution_count": 234,
      "metadata": {
        "collapsed": true,
        "id": "ZIdloyoazf2v"
      },
      "outputs": [
        {
          "name": "stdout",
          "output_type": "stream",
          "text": [
            "          fun: -0.9084999999999999\n",
            "            x: [14, 478, 'entropy', 0.7402652389163321]\n",
            "    func_vals: [-8.725e-01 -8.475e-01 ... -7.280e-01 -9.065e-01]\n",
            "      x_iters: [[5, 524, 'entropy', 0.6242821252879416], [7, 187, 'gini', 0.16837216070143307], [7, 555, 'gini', 0.04696251313662343], [13, 165, 'entropy', 0.332953374902347], [5, 493, 'entropy', 0.6765731321644932], [5, 349, 'entropy', 0.7677846588570026], [4, 302, 'entropy', 0.3533695572105351], [14, 478, 'entropy', 0.7402652389163321], [11, 286, 'entropy', 0.2016359176423439], [4, 485, 'entropy', 0.102957804891415], [10, 100, 'gini', 0.5373339055008187], [15, 600, 'gini', 1.0], [15, 600, 'gini', 0.41178740618907944], [15, 100, 'entropy', 0.01], [15, 100, 'entropy', 0.6362438694851509]]\n",
            "       models: [GaussianProcessRegressor(kernel=1**2 * Matern(length_scale=[1, 1, 1, 1], nu=2.5) + WhiteKernel(noise_level=1),\n",
            "                                        n_restarts_optimizer=2, noise='gaussian',\n",
            "                                        normalize_y=True, random_state=1904856452), GaussianProcessRegressor(kernel=1**2 * Matern(length_scale=[1, 1, 1, 1], nu=2.5) + WhiteKernel(noise_level=1),\n",
            "                                        n_restarts_optimizer=2, noise='gaussian',\n",
            "                                        normalize_y=True, random_state=1904856452), GaussianProcessRegressor(kernel=1**2 * Matern(length_scale=[1, 1, 1, 1], nu=2.5) + WhiteKernel(noise_level=1),\n",
            "                                        n_restarts_optimizer=2, noise='gaussian',\n",
            "                                        normalize_y=True, random_state=1904856452), GaussianProcessRegressor(kernel=1**2 * Matern(length_scale=[1, 1, 1, 1], nu=2.5) + WhiteKernel(noise_level=1),\n",
            "                                        n_restarts_optimizer=2, noise='gaussian',\n",
            "                                        normalize_y=True, random_state=1904856452), GaussianProcessRegressor(kernel=1**2 * Matern(length_scale=[1, 1, 1, 1], nu=2.5) + WhiteKernel(noise_level=1),\n",
            "                                        n_restarts_optimizer=2, noise='gaussian',\n",
            "                                        normalize_y=True, random_state=1904856452), GaussianProcessRegressor(kernel=1**2 * Matern(length_scale=[1, 1, 1, 1], nu=2.5) + WhiteKernel(noise_level=1),\n",
            "                                        n_restarts_optimizer=2, noise='gaussian',\n",
            "                                        normalize_y=True, random_state=1904856452)]\n",
            "        space: Space([Integer(low=3, high=15, prior='uniform', transform='normalize'),\n",
            "                      Integer(low=100, high=600, prior='uniform', transform='normalize'),\n",
            "                      Categorical(categories=('gini', 'entropy'), prior=None),\n",
            "                      Real(low=0.01, high=1, prior='uniform', transform='normalize')])\n",
            " random_state: RandomState(MT19937)\n",
            "        specs:     args:                    func: functools.partial(<function optimize at 0x0000024E5AC41300>, param_names=['max_depth', 'n_estimators', 'criterion', 'max_features'], x=array([[ 8.420e+02,\n",
            "                                                           0.000e+00, ...,\n",
            "                                                           0.000e+00,\n",
            "                                                           1.000e+00],\n",
            "                                                         [ 1.021e+03,\n",
            "                                                           1.000e+00, ...,\n",
            "                                                           1.000e+00,\n",
            "                                                           0.000e+00],\n",
            "                                                         ...,\n",
            "                                                         [ 1.512e+03,\n",
            "                                                           0.000e+00, ...,\n",
            "                                                           1.000e+00,\n",
            "                                                           1.000e+00],\n",
            "                                                         [ 5.100e+02,\n",
            "                                                           1.000e+00, ...,\n",
            "                                                           1.000e+00,\n",
            "                                                           1.000e+00]]), y=array([1, 2, ..., 0, 3],\n",
            "                                                        dtype=int64), list_of_all_params=[[5, 524, 'entropy', 0.6242821252879416], [7, 187, 'gini', 0.16837216070143307], [7, 555, 'gini', 0.04696251313662343], [13, 165, 'entropy', 0.332953374902347], [5, 493, 'entropy', 0.6765731321644932], [5, 349, 'entropy', 0.7677846588570026], [4, 302, 'entropy', 0.3533695572105351], [14, 478, 'entropy', 0.7402652389163321], [11, 286, 'entropy', 0.2016359176423439], [4, 485, 'entropy', 0.102957804891415], [10, 100, 'gini', 0.5373339055008187], [15, 600, 'gini', 1.0], [15, 600, 'gini', 0.41178740618907944], [15, 100, 'entropy', 0.01], [15, 100, 'entropy', 0.6362438694851509]])\n",
            "                                      dimensions: Space([Integer(low=3, high=15, prior='uniform', transform='normalize'),\n",
            "                                                         Integer(low=100, high=600, prior='uniform', transform='normalize'),\n",
            "                                                         Categorical(categories=('gini', 'entropy'), prior=None),\n",
            "                                                         Real(low=0.01, high=1, prior='uniform', transform='normalize')])\n",
            "                                  base_estimator: GaussianProcessRegressor(kernel=1**2 * Matern(length_scale=[1, 1, 1, 1], nu=2.5),\n",
            "                                                                           n_restarts_optimizer=2, noise='gaussian',\n",
            "                                                                           normalize_y=True, random_state=1904856452)\n",
            "                                         n_calls: 15\n",
            "                                 n_random_starts: 10\n",
            "                                n_initial_points: 10\n",
            "                         initial_point_generator: random\n",
            "                                        acq_func: gp_hedge\n",
            "                                   acq_optimizer: auto\n",
            "                                              x0: None\n",
            "                                              y0: None\n",
            "                                    random_state: RandomState(MT19937)\n",
            "                                         verbose: 10\n",
            "                                        callback: None\n",
            "                                        n_points: 10000\n",
            "                            n_restarts_optimizer: 5\n",
            "                                              xi: 0.01\n",
            "                                           kappa: 1.96\n",
            "                                          n_jobs: 1\n",
            "                                model_queue_size: None\n",
            "                                space_constraint: None\n",
            "               function: base_minimize\n"
          ]
        }
      ],
      "source": [
        "print(result)"
      ]
    },
    {
      "cell_type": "code",
      "execution_count": 235,
      "metadata": {
        "colab": {
          "base_uri": "https://localhost:8080/"
        },
        "id": "aaAmuxd0k_c4",
        "outputId": "f86ae267-ae74-4539-b108-f96a38afb9aa"
      },
      "outputs": [
        {
          "name": "stdout",
          "output_type": "stream",
          "text": [
            "{'max_depth': 14, 'n_estimators': 478, 'criterion': 'entropy', 'max_features': 0.7402652389163321}\n"
          ]
        }
      ],
      "source": [
        "#Printing the set of best hyperparameter values in dictionary format\n",
        "print(dict(zip(param_names, result.x)))"
      ]
    },
    {
      "cell_type": "code",
      "execution_count": 236,
      "metadata": {
        "colab": {
          "base_uri": "https://localhost:8080/"
        },
        "id": "usVm2XFwogWI",
        "outputId": "ef4112aa-34e7-46b8-e41e-65e80930e272"
      },
      "outputs": [
        {
          "name": "stdout",
          "output_type": "stream",
          "text": [
            "[14, 478, 'entropy', 0.7402652389163321]\n"
          ]
        }
      ],
      "source": [
        "# storing the best values in a list\n",
        "best_params = result.x\n",
        "print(best_params)"
      ]
    },
    {
      "cell_type": "code",
      "execution_count": 237,
      "metadata": {
        "id": "fpemVwJ3k_c5"
      },
      "outputs": [],
      "source": [
        "#setting the best hyperparameter values in the classifier\n",
        "classifier = ensemble.RandomForestClassifier(criterion =best_params[2], max_depth = int(best_params[0]), n_estimators = int(best_params[1]),\n",
        "                                             max_features = float(best_params[3]), n_jobs=-1, random_state=42)\n"
      ]
    },
    {
      "cell_type": "code",
      "execution_count": 238,
      "metadata": {
        "colab": {
          "base_uri": "https://localhost:8080/"
        },
        "id": "vR2z4orUk_c5",
        "outputId": "249be0bc-f99c-4f5f-8b0b-6c671e6e7e31"
      },
      "outputs": [
        {
          "name": "stdout",
          "output_type": "stream",
          "text": [
            "scores\n",
            " [0.93  0.92  0.935 0.9   0.91  0.935 0.89  0.9   0.895 0.89 ]\n",
            "\n",
            "cv values (10,)\n",
            "\n",
            "Score_Mean 0.9105000000000001\n"
          ]
        }
      ],
      "source": [
        "from sklearn.model_selection import cross_val_score\n",
        "\n",
        "# Calculation of the cross validation score\n",
        "score = cross_val_score(classifier,X,y, cv=10)\n",
        "print('scores\\n',score)\n",
        "print('\\ncv values', score.shape)\n",
        "print('\\nScore_Mean', score.mean())"
      ]
    },
    {
      "cell_type": "code",
      "execution_count": 239,
      "metadata": {
        "id": "YcNnjkywk_c6"
      },
      "outputs": [],
      "source": [
        "from sklearn.model_selection import train_test_split"
      ]
    },
    {
      "cell_type": "code",
      "execution_count": 240,
      "metadata": {
        "id": "xZggk5Rgk_c7"
      },
      "outputs": [],
      "source": [
        "x_train , x_test , y_train , y_test = train_test_split(X,y,test_size=0.2)"
      ]
    },
    {
      "cell_type": "code",
      "execution_count": 241,
      "metadata": {
        "colab": {
          "base_uri": "https://localhost:8080/"
        },
        "id": "Zi3a18rxAN3a",
        "outputId": "4b86bdf7-4057-4410-d758-95e37ab40f86"
      },
      "outputs": [
        {
          "name": "stdout",
          "output_type": "stream",
          "text": [
            "[1, 2, 3, 4, 5, 6, 7, 8, 9, 10, 11, 12, 13, 14, 15]\n"
          ]
        }
      ],
      "source": [
        "scaling_x = [i for i in range(1, 16, 1)]\n",
        "print(scaling_x)"
      ]
    },
    {
      "cell_type": "code",
      "execution_count": 242,
      "metadata": {
        "id": "iQbGej16k_c7"
      },
      "outputs": [],
      "source": [
        "from sklearn.ensemble import RandomForestClassifier\n",
        "classifier = RandomForestClassifier(criterion =best_params[2], max_depth = int(best_params[0]), n_estimators = int(best_params[1]),\n",
        "                                             max_features = float(best_params[3]), n_jobs=-1, random_state=42)"
      ]
    },
    {
      "cell_type": "code",
      "execution_count": 243,
      "metadata": {
        "colab": {
          "base_uri": "https://localhost:8080/"
        },
        "id": "3aeU9T7Mk_c8",
        "outputId": "d46d24ca-2a0c-45ce-e6ce-a951c3a61ae4"
      },
      "outputs": [
        {
          "name": "stdout",
          "output_type": "stream",
          "text": [
            "ROC AUC (One-vs-Rest): 0.9876814918700554\n"
          ]
        }
      ],
      "source": [
        "from sklearn import metrics\n",
        "import numpy as np\n",
        "from sklearn.metrics import roc_auc_score\n",
        "\n",
        "# Example data (replace with your actual data)\n",
        "classifier.fit(x_train, y_train)\n",
        "\n",
        "y_score =  classifier.predict_proba(x_test)  # Predicted probabilities for all classes\n",
        "roc_auc = roc_auc_score(y_test, y_score, multi_class='ovr')\n",
        "print(\"ROC AUC (One-vs-Rest):\", roc_auc)"
      ]
    },
    {
      "cell_type": "code",
      "execution_count": 244,
      "metadata": {
        "colab": {
          "base_uri": "https://localhost:8080/",
          "height": 407
        },
        "collapsed": true,
        "id": "G3cX4zOd3tDy",
        "outputId": "bb1e1d05-3a08-493e-c529-b0d4f83ea6d7"
      },
      "outputs": [
        {
          "data": {
            "image/png": "[encoded data removed]",
            "text/plain": [
              "<Figure size 1000x400 with 1 Axes>"
            ]
          },
          "metadata": {},
          "output_type": "display_data"
        }
      ],
      "source": [
        "# Plot of the Learning Rate Distribution Curve\n",
        "from sklearn.ensemble import RandomForestClassifier\n",
        "from sklearn import metrics\n",
        "import numpy as np\n",
        "from sklearn.metrics import roc_auc_score\n",
        "import matplotlib.pyplot as plt\n",
        "\n",
        "# Creating a list for storing all train ROC Scores\n",
        "train_scores = []\n",
        "#Creating a list for storing all Validation ROC Scores\n",
        "val_scores = []\n",
        "#Creating a list for storing all Validation ROC Scores for Bayesian optimization for further comparison w.r.t hyperopt optimization\n",
        "roc_score_BO = []\n",
        "for para in list_of_all_params:\n",
        "    # Initialize classifier with current n_estimators\n",
        "    classifier = RandomForestClassifier(criterion =para[2], max_depth = int(para[0]), n_estimators = int(para[1]),\n",
        "                                             max_features = float(para[3]), n_jobs=-1, random_state=42)\n",
        "\n",
        "    # Train the classifier\n",
        "    classifier.fit(x_train, y_train)\n",
        "\n",
        "    # Predict probabilities for ROC AUC calculation\n",
        "    y_train_score = classifier.predict_proba(x_train)\n",
        "    y_val_score = classifier.predict_proba(x_test)\n",
        "\n",
        "    # Compute ROC AUC scores\n",
        "    train_roc_auc = roc_auc_score(y_train, y_train_score, multi_class='ovr')\n",
        "    val_roc_auc = roc_auc_score(y_test, y_val_score, multi_class='ovr')\n",
        "\n",
        "    # Store scores\n",
        "    train_scores.append(train_roc_auc)\n",
        "    val_scores.append(val_roc_auc)\n",
        "    roc_score_BO.append(val_roc_auc)\n",
        "\n",
        "\n",
        "# Plotting the learning curves\n",
        "plt.figure(figsize=(10, 4))\n",
        "plt.plot(scaling_x, train_scores, marker='o', label='Training ROC AUC')\n",
        "plt.plot(scaling_x, val_scores, marker='o', label='Validation ROC AUC')\n",
        "plt.xlabel('Number of Iterations')\n",
        "plt.ylabel('ROC AUC Score')\n",
        "plt.title('Learning Curve')\n",
        "plt.legend()\n",
        "plt.grid(True)\n",
        "plt.tight_layout()\n",
        "plt.show()\n",
        "\n"
      ]
    },
    {
      "cell_type": "markdown",
      "metadata": {},
      "source": [
        "# TPE (Tree-Parzen Estimator)"
      ]
    },
    {
      "cell_type": "code",
      "execution_count": 245,
      "metadata": {},
      "outputs": [],
      "source": [
        "from sklearn.model_selection import StratifiedKFold"
      ]
    },
    {
      "cell_type": "code",
      "execution_count": 246,
      "metadata": {},
      "outputs": [],
      "source": [
        "# Define the model and objective function\n",
        "def create_model(n_estimators, max_depth, min_samples_split):\n",
        "    model = RandomForestClassifier(\n",
        "        n_estimators=n_estimators,\n",
        "        max_depth=max_depth,\n",
        "        min_samples_split=min_samples_split,\n",
        "        random_state=42,\n",
        "        n_jobs=-1\n",
        "    )\n",
        "    return model\n",
        "\n",
        "def objective_function(params):\n",
        "    model = create_model(params['n_estimators'],\n",
        "                         params['max_depth'],\n",
        "                         params['min_samples_split'])\n",
        "    \n",
        "    # Cross-validation with StratifiedKFold\n",
        "    cv = StratifiedKFold(n_splits=5, shuffle=True, random_state=42)\n",
        "    roc_auc_scores = cross_val_score(model, x_train, y_train, cv=cv, scoring='roc_auc')\n",
        "    mean_roc_auc = np.mean(roc_auc_scores)\n",
        "    \n",
        "    return -mean_roc_auc  # Minimize negative ROC AUC (TPE maximizes)"
      ]
    },
    {
      "cell_type": "code",
      "execution_count": 247,
      "metadata": {},
      "outputs": [
        {
          "name": "stdout",
          "output_type": "stream",
          "text": [
            "Best hyperparameters: {'n_estimators': 10, 'max_depth': 2, 'min_samples_split': 2}\n"
          ]
        }
      ],
      "source": [
        "def tpe_optimization(objective_function, space, n_calls):\n",
        "    # Initialize lists to store hyperparameters and objective function values\n",
        "    params = []\n",
        "    results = []\n",
        "    \n",
        "    for _ in range(n_calls):\n",
        "        # Sample hyperparameters from the search space\n",
        "        next_params = {key: np.random.choice(values) for key, values in space.items()}\n",
        "        \n",
        "        # Evaluate objective function\n",
        "        score = objective_function(next_params)\n",
        "        \n",
        "        # Store results\n",
        "        params.append(next_params)\n",
        "        results.append(score)\n",
        "        \n",
        "        # Update probability distributions based on observed results\n",
        "        # For simplicity, we do not implement this complex part here\n",
        "        \n",
        "    # Get index of best result\n",
        "    best_index = np.argmax(results)\n",
        "    best_params = params[best_index]\n",
        "    \n",
        "    return best_params\n",
        "\n",
        "# Define the search space\n",
        "space = {\n",
        "    'n_estimators': [10, 100, 500, 1000],\n",
        "    'max_depth': [2, 5, 10, 20],\n",
        "    'min_samples_split': [2, 5, 10, 20, 50]\n",
        "}\n",
        "\n",
        "# Perform optimization using TPE\n",
        "best_hyperparams = tpe_optimization(objective_function, space, n_calls=20)\n",
        "\n",
        "print(\"Best hyperparameters:\", best_hyperparams)"
      ]
    },
    {
      "cell_type": "code",
      "execution_count": 248,
      "metadata": {},
      "outputs": [
        {
          "data": {
            "text/plain": [
              "[14, 478, 'entropy', 0.7402652389163321]"
            ]
          },
          "execution_count": 248,
          "metadata": {},
          "output_type": "execute_result"
        }
      ],
      "source": [
        "best_params"
      ]
    },
    {
      "cell_type": "code",
      "execution_count": 249,
      "metadata": {},
      "outputs": [],
      "source": [
        "# # Train the model with the best hyperparameters\n",
        "# best_clf1 = RandomForestClassifier(**best_params)\n",
        "# cross_val_scores = cross_val_score(best_clf1, x_train, y_train, scoring='accuracy', cv=5)"
      ]
    },
    {
      "cell_type": "code",
      "execution_count": 250,
      "metadata": {},
      "outputs": [
        {
          "name": "stdout",
          "output_type": "stream",
          "text": [
            "ROC AUC (One-vs-Rest): 0.9879483948936622\n"
          ]
        }
      ],
      "source": [
        "# Example data (replace with your actual data)\n",
        "best_clf1.fit(x_train, y_train)\n",
        " \n",
        "y_score =  best_clf1.predict_proba(x_test)  # Predicted probabilities for all classes\n",
        "roc_auc = roc_auc_score(y_test, y_score, multi_class='ovr')\n",
        "print(\"ROC AUC (One-vs-Rest):\", roc_auc)"
      ]
    },
    {
      "cell_type": "code",
      "execution_count": 251,
      "metadata": {},
      "outputs": [
        {
          "name": "stdout",
          "output_type": "stream",
          "text": [
            "Cross-validation scores: [0.934375 0.928125 0.884375 0.884375 0.928125]\n",
            "Mean cross-validation score: 0.9118749999999999\n"
          ]
        }
      ],
      "source": [
        "\n",
        "# Print the cross-validation scores\n",
        "print(\"Cross-validation scores:\", cross_val_scores)\n",
        "print(\"Mean cross-validation score:\", cross_val_scores.mean())"
      ]
    },
    {
      "cell_type": "markdown",
      "metadata": {
        "id": "yqmxgxPCk_c_"
      },
      "source": [
        "# hyperopt"
      ]
    },
    {
      "cell_type": "code",
      "execution_count": 252,
      "metadata": {
        "id": "KTGsUZ7Ek_dA"
      },
      "outputs": [],
      "source": [
        "from hyperopt import hp, fmin, tpe, Trials\n",
        "from hyperopt.pyll.base import scope"
      ]
    },
    {
      "cell_type": "code",
      "execution_count": 253,
      "metadata": {
        "id": "eGYj76a8k_dA"
      },
      "outputs": [],
      "source": [
        "# Optimization Function for obtaining best hyperparameter values.\n",
        "def optimize(params, x, y, list_of_all_params_hyperopt):\n",
        "    #storing the list of set of hyperparameters values in each iteration\n",
        "    list_of_all_params_hyperopt.append(list(params.values()))\n",
        "    model = ensemble.RandomForestClassifier(**params,n_jobs=-1, random_state=42)\n",
        "    kf = model_selection.KFold(n_splits=5)\n",
        "    accuracies = []\n",
        "    for idx in kf.split(X=x, y=y):\n",
        "        train_idx, test_idx = idx[0], idx[1]\n",
        "        xtrain = x[train_idx]\n",
        "        ytrain = y[train_idx]\n",
        "\n",
        "        xtest = x[test_idx]\n",
        "        ytest = y[test_idx]\n",
        "\n",
        "        model.fit(xtrain, ytrain)\n",
        "        preds = model.predict(xtest)\n",
        "        fold_acc = metrics.accuracy_score(ytest, preds)\n",
        "        accuracies.append(fold_acc)\n",
        "\n",
        "    return -1.0 * np.mean(accuracies)"
      ]
    },
    {
      "cell_type": "code",
      "execution_count": 254,
      "metadata": {
        "colab": {
          "base_uri": "https://localhost:8080/"
        },
        "id": "IgNvva3nk_dO",
        "outputId": "5a14f3b4-1a3c-4fb3-9a8a-179e97b85790"
      },
      "outputs": [
        {
          "name": "stdout",
          "output_type": "stream",
          "text": [
            "  0%|          | 0/15 [00:00<?, ?trial/s, best loss=?]"
          ]
        },
        {
          "name": "stdout",
          "output_type": "stream",
          "text": [
            "100%|██████████| 15/15 [01:18<00:00,  5.26s/trial, best loss: -0.9039999999999999]\n",
            "{'criterion': 1, 'max_depth': 13.0, 'max_features': 0.40168311199607204, 'n_estimators': 524.0}\n"
          ]
        }
      ],
      "source": [
        "#Defining the range of hyperparameters values\n",
        "param_space = {\n",
        "    \"max_depth\": scope.int(hp.quniform(\"max_depth\", 3, 15, 1)),\n",
        "    \"n_estimators\": scope.int(hp.quniform(\"n_estimators\", 100, 600, 1)),\n",
        "    \"criterion\": hp.choice(\"criterion\", [\"gini\", \"entropy\"]),\n",
        "    \"max_features\": hp.uniform(\"max_features\", 0.01, 1)\n",
        "}\n",
        "# Creating a list to store all set/list of hyperparameters values\n",
        "list_of_all_params_hyperopt=[]\n",
        "optimization_function = partial(\n",
        "    optimize,\n",
        "    x=X,\n",
        "    y=y,\n",
        "    list_of_all_params_hyperopt=list_of_all_params_hyperopt\n",
        ")\n",
        "\n",
        "trials = Trials() # It would be nice to see exactly what is happening inside the hyperopt black box. The Trials object allows us to do just that.\n",
        "\n",
        "result = fmin(\n",
        "    fn=optimization_function,\n",
        "    space=param_space,\n",
        "    algo=tpe.suggest,\n",
        "    max_evals=15,\n",
        "    trials=trials,\n",
        ")\n",
        "\n",
        "print(result)"
      ]
    },
    {
      "cell_type": "code",
      "execution_count": 255,
      "metadata": {
        "colab": {
          "base_uri": "https://localhost:8080/"
        },
        "id": "2pBBO496UPEV",
        "outputId": "7b554b3d-6b3f-4437-ceba-5551e7ee2107"
      },
      "outputs": [
        {
          "name": "stdout",
          "output_type": "stream",
          "text": [
            "[['gini', 10, 0.26830051770697777, 353], ['entropy', 5, 0.31836127506769657, 379], ['gini', 10, 0.8093704395768877, 468], ['gini', 7, 0.20567814971704124, 269], ['gini', 8, 0.9965777558671094, 137], ['gini', 8, 0.265591072791133, 175], ['gini', 10, 0.5097766608359211, 368], ['entropy', 13, 0.40168311199607204, 524], ['gini', 13, 0.6682769907175214, 451], ['entropy', 6, 0.7541975129197453, 533], ['gini', 8, 0.7765778188623954, 367], ['gini', 11, 0.9622052882123976, 449], ['entropy', 11, 0.2105889972873135, 518], ['gini', 6, 0.47369383943501964, 272], ['entropy', 12, 0.24206789657900898, 531]]\n"
          ]
        }
      ],
      "source": [
        "print(list_of_all_params_hyperopt)"
      ]
    },
    {
      "cell_type": "code",
      "execution_count": 256,
      "metadata": {
        "colab": {
          "base_uri": "https://localhost:8080/"
        },
        "id": "aLJ7NyLTk_dP",
        "outputId": "56a8121f-cae6-496d-a5e3-c51e6a3351a5"
      },
      "outputs": [
        {
          "name": "stdout",
          "output_type": "stream",
          "text": [
            "optimized  hyperparameters: {'criterion': 1, 'max_depth': 13.0, 'max_features': 0.40168311199607204, 'n_estimators': 524.0}\n"
          ]
        }
      ],
      "source": [
        "# Print the optimized  hyperparameters\n",
        "print(\"optimized  hyperparameters:\", result)"
      ]
    },
    {
      "cell_type": "code",
      "execution_count": 257,
      "metadata": {
        "id": "o_EeN9A_k_dP"
      },
      "outputs": [],
      "source": [
        "# Train the model with the result/optimized  hyperparameters\n",
        "best_params = {\n",
        "    'max_depth': int(result['max_depth']),\n",
        "    'n_estimators': int(result['n_estimators']),\n",
        "    'criterion': ['gini', 'entropy'][result['criterion']],\n",
        "    'max_features': result['max_features']\n",
        "}\n"
      ]
    },
    {
      "cell_type": "code",
      "execution_count": 258,
      "metadata": {
        "id": "QZ4yA-kkk_dQ"
      },
      "outputs": [],
      "source": [
        "# Train the model with the best hyperparameters\n",
        "best_clf = RandomForestClassifier(**best_params, n_jobs=-1, random_state=42)\n",
        "cross_val_scores = cross_val_score(best_clf, X, y, scoring='accuracy', cv=5)"
      ]
    },
    {
      "cell_type": "code",
      "execution_count": 259,
      "metadata": {
        "colab": {
          "base_uri": "https://localhost:8080/"
        },
        "id": "_LLV-yNXk_dQ",
        "outputId": "7a33f70c-8ae1-45d2-8f75-e1ef36b99bf7"
      },
      "outputs": [
        {
          "name": "stdout",
          "output_type": "stream",
          "text": [
            "ROC AUC (One-vs-Rest): 0.9873727291245116\n"
          ]
        }
      ],
      "source": [
        "# Evaluation of the ROC-AUC score for the optimized hyperparameters\n",
        "best_clf.fit(x_train, y_train)\n",
        "\n",
        "y_score =  best_clf.predict_proba(x_test)  # Predicted probabilities for all classes\n",
        "roc_auc = roc_auc_score(y_test, y_score, multi_class='ovr')\n",
        "print(\"ROC AUC (One-vs-Rest):\", roc_auc)"
      ]
    },
    {
      "cell_type": "code",
      "execution_count": 260,
      "metadata": {
        "colab": {
          "base_uri": "https://localhost:8080/"
        },
        "id": "a73l2sONk_dQ",
        "outputId": "8a4a710d-9f5e-44b3-b1fd-76aebf599cd1"
      },
      "outputs": [
        {
          "name": "stdout",
          "output_type": "stream",
          "text": [
            "Cross-validation scores: [0.9075 0.9225 0.9125 0.89   0.8975]\n",
            "Mean cross-validation score: 0.906\n"
          ]
        }
      ],
      "source": [
        "\n",
        "# Print the cross-validation scores\n",
        "print(\"Cross-validation scores:\", cross_val_scores)\n",
        "print(\"Mean cross-validation score:\", cross_val_scores.mean())"
      ]
    },
    {
      "cell_type": "code",
      "execution_count": 261,
      "metadata": {
        "colab": {
          "base_uri": "https://localhost:8080/",
          "height": 407
        },
        "id": "aRYZ6-dUk_dR",
        "outputId": "83bbd73a-f883-411a-ce65-000bf857f60b"
      },
      "outputs": [
        {
          "data": {
            "image/png": "[encoded data removed]",
            "text/plain": [
              "<Figure size 1000x400 with 1 Axes>"
            ]
          },
          "metadata": {},
          "output_type": "display_data"
        }
      ],
      "source": [
        "from sklearn.ensemble import RandomForestClassifier\n",
        "from sklearn import metrics\n",
        "import numpy as np\n",
        "from sklearn.metrics import roc_auc_score\n",
        "import matplotlib.pyplot as plt\n",
        "\n",
        "train_scores = []\n",
        "val_scores = []\n",
        "roc_score_hyperopt = []\n",
        "for para in list_of_all_params_hyperopt:\n",
        "    # Initialize classifier with current n_estimators\n",
        "    classifier = RandomForestClassifier(criterion =para[0], max_depth = int(para[1]), n_estimators = int(para[3]),\n",
        "                                             max_features = float(para[2]), n_jobs=-1, random_state=42)\n",
        "\n",
        "    # Train the classifier\n",
        "    classifier.fit(x_train, y_train)\n",
        "\n",
        "    # Predict probabilities for ROC AUC calculation\n",
        "    y_train_score = classifier.predict_proba(x_train)\n",
        "    y_val_score = classifier.predict_proba(x_test)\n",
        "\n",
        "    # Compute ROC AUC scores\n",
        "    train_roc_auc = roc_auc_score(y_train, y_train_score, multi_class='ovr')\n",
        "    val_roc_auc = roc_auc_score(y_test, y_val_score, multi_class='ovr')\n",
        "\n",
        "    # Store scores\n",
        "    train_scores.append(train_roc_auc)\n",
        "    val_scores.append(val_roc_auc)\n",
        "    roc_score_hyperopt.append(val_roc_auc)\n",
        "# Plotting the learning curves\n",
        "plt.figure(figsize=(10, 4))\n",
        "plt.plot(scaling_x, train_scores, marker='o', label='Training ROC AUC')\n",
        "plt.plot(scaling_x, val_scores, marker='o', label='Validation ROC AUC')\n",
        "plt.xlabel('Number of Iterations')\n",
        "plt.ylabel('ROC AUC Score')\n",
        "plt.title('Learning Curve')\n",
        "plt.legend()\n",
        "plt.grid(True)\n",
        "plt.tight_layout()\n",
        "plt.show()\n",
        "\n"
      ]
    },
    {
      "cell_type": "markdown",
      "metadata": {
        "id": "gYkxOjslvQC5"
      },
      "source": [
        "# Learning Rate Distribution Curve Comparison Of Bayesian optimisation & Hyperopt"
      ]
    },
    {
      "cell_type": "code",
      "execution_count": 262,
      "metadata": {
        "colab": {
          "base_uri": "https://localhost:8080/",
          "height": 407
        },
        "id": "JtYUGx-aZVoY",
        "outputId": "296b2e3b-4a5e-43d8-ad6d-48d42e35d20b"
      },
      "outputs": [
        {
          "data": {
            "image/png": "[encoded data removed]",
            "text/plain": [
              "<Figure size 1000x500 with 1 Axes>"
            ]
          },
          "metadata": {},
          "output_type": "display_data"
        }
      ],
      "source": [
        "import matplotlib.pyplot as plt\n",
        "\n",
        "# Assuming scaling_x, roc_score_hyperopt, and roc_score_BO are defined elsewhere\n",
        "\n",
        "plt.figure(figsize=(10, 5))  # Increase height to 6 inches\n",
        "\n",
        "# Plot with different line styles and colors\n",
        "plt.plot(scaling_x, roc_score_hyperopt, marker='o', linestyle='-', color='b', label='ROC AUC Hyperopt')\n",
        "plt.plot(scaling_x, roc_score_BO, marker='s', linestyle='--', color='r', label='ROC AUC BO')\n",
        "\n",
        "plt.xlabel('Number of Iterations', fontsize=12)  # Increase font size\n",
        "plt.ylabel('ROC AUC Score', fontsize=12)  # Increase font size\n",
        "plt.title('Learning Curve Comparison', fontsize=14, fontweight='bold')  # Increase font size and add bold\n",
        "\n",
        "plt.legend(fontsize=12)  # Increase legend font size\n",
        "plt.grid(True, linestyle='--', alpha=0.7)  # Add grid with dashed lines and reduce opacity\n",
        "\n",
        "plt.tight_layout()  # Adjust layout for better spacing\n",
        "plt.show()\n"
      ]
    }
  ],
  "metadata": {
    "colab": {
      "provenance": []
    },
    "kernelspec": {
      "display_name": "Python 3 (ipykernel)",
      "language": "python",
      "name": "python3"
    },
    "language_info": {
      "codemirror_mode": {
        "name": "ipython",
        "version": 3
      },
      "file_extension": ".py",
      "mimetype": "text/x-python",
      "name": "python",
      "nbconvert_exporter": "python",
      "pygments_lexer": "ipython3",
      "version": "3.12.0"
    }
  },
  "nbformat": 4,
  "nbformat_minor": 0
}
